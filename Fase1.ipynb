{
 "cells": [
  {
   "cell_type": "code",
   "execution_count": null,
   "id": "147eae68",
   "metadata": {},
   "outputs": [],
   "source": []
  },
  {
   "cell_type": "code",
   "execution_count": null,
   "id": "d2acab18",
   "metadata": {},
   "outputs": [],
   "source": []
  },
  {
   "cell_type": "code",
   "execution_count": null,
   "id": "9a05792c",
   "metadata": {},
   "outputs": [],
   "source": [
    "# Fase 1\n",
    "# Criação de Pipeline de Extração, Limpeza, Transformação e Enriquecimento de Dados\n",
    "# Versão 1"
   ]
  },
  {
   "cell_type": "code",
   "execution_count": 1,
   "id": "4dcf36ab",
   "metadata": {},
   "outputs": [],
   "source": [
    "# Imports\n",
    "import csv\n",
    "import sqlite3"
   ]
  },
  {
   "cell_type": "code",
   "execution_count": 3,
   "id": "e87938c3",
   "metadata": {},
   "outputs": [],
   "source": [
    "# Cria um novo banco de dados\n",
    "conn = sqlite3.connect('adults.db')"
   ]
  },
  {
   "cell_type": "code",
   "execution_count": 4,
   "id": "b9fdd761",
   "metadata": {},
   "outputs": [
    {
     "data": {
      "text/plain": [
       "<sqlite3.Cursor at 0x1f9dd786c70>"
      ]
     },
     "execution_count": 4,
     "metadata": {},
     "output_type": "execute_result"
    }
   ],
   "source": [
    "# Cria uma tabela para armazenar os dados de produção de adult\n",
    "conn.execute('''CREATE TABLE adults (\n",
    "                age INTEGER,\n",
    "                workclass TEXT,\n",
    "                fnlwgt INTEGER,\n",
    "                education TEXT,\n",
    "                education_num INTEGER,\n",
    "                marital_status TEXT,\n",
    "                occupation TEXT,\n",
    "                relationship TEXT,\n",
    "                race TEXT,\n",
    "                sex TEXT,\n",
    "                capital_gain INTEGER,\n",
    "                capital_loss INTEGER,\n",
    "                hours_per_week TEXT,\n",
    "                native_country TEXT,\n",
    "                income TEXT\n",
    "            )''')"
   ]
  },
  {
   "cell_type": "code",
   "execution_count": 5,
   "id": "e2c11570",
   "metadata": {},
   "outputs": [],
   "source": [
    "# Grava e fecha a conexão\n",
    "conn.commit()\n",
    "conn.close()\n"
   ]
  },
  {
   "cell_type": "code",
   "execution_count": 9,
   "id": "2c365960",
   "metadata": {},
   "outputs": [
    {
     "name": "stdout",
     "output_type": "stream",
     "text": [
      "Fase Concluída com Sucesso!\n"
     ]
    }
   ],
   "source": [
    "# Abre o arquivo CSV com os dados de adult\n",
    "with open('Dados/adult.csv', 'r') as file:\n",
    "    # Cria um leitor de CSV para ler o arquivo\n",
    "    reader = csv.reader(file)\n",
    "\n",
    "    # Pula a primeira linha, que contém os cabeçalhos das colunas\n",
    "    next(reader)\n",
    "\n",
    "    # Conecta ao banco de dados\n",
    "    conn = sqlite3.connect('adults.db')\n",
    "\n",
    "    # Insere cada linha do arquivo na tabela do banco de dados\n",
    "    for row in reader:\n",
    "        conn.execute('INSERT INTO adults (age, workclass, fnlwgt, education, education_num, marital_status, occupation, relationship, race, sex, capital_gain, capital_loss, hours_per_week, native_country, income) VALUES (?, ?, ?, ?, ?, ?, ?, ?, ?, ?, ?, ?, ?, ?, ?)', row)\n",
    "\n",
    "    conn.commit()\n",
    "    conn.close()\n",
    "\n",
    "print(\"Fase Concluída com Sucesso!\")"
   ]
  },
  {
   "cell_type": "code",
   "execution_count": null,
   "id": "c67ce506",
   "metadata": {},
   "outputs": [],
   "source": []
  }
 ],
 "metadata": {
  "kernelspec": {
   "display_name": "Python 3 (ipykernel)",
   "language": "python",
   "name": "python3"
  },
  "language_info": {
   "codemirror_mode": {
    "name": "ipython",
    "version": 3
   },
   "file_extension": ".py",
   "mimetype": "text/x-python",
   "name": "python",
   "nbconvert_exporter": "python",
   "pygments_lexer": "ipython3",
   "version": "3.9.13"
  }
 },
 "nbformat": 4,
 "nbformat_minor": 5
}
