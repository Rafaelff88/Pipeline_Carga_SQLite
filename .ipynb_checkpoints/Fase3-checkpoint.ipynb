{
 "cells": [
  {
   "cell_type": "code",
   "execution_count": null,
   "id": "0c6b2781",
   "metadata": {},
   "outputs": [],
   "source": [
    "# Fase3\n",
    "# Criação de Pipeline de Extração, Limpeza, Transformação e Enriquecimento de Dados\n",
    "# Versão 3\n",
    "# Regra de negócio: Criar categorias de faixa etária para a variável age\n"
   ]
  },
  {
   "cell_type": "code",
   "execution_count": 1,
   "id": "8999c62a",
   "metadata": {},
   "outputs": [],
   "source": [
    "# Imports\n",
    "import csv\n",
    "import sqlite3"
   ]
  },
  {
   "cell_type": "code",
   "execution_count": 2,
   "id": "35293899",
   "metadata": {},
   "outputs": [],
   "source": [
    "def faixa_etaria(age):\n",
    "    age = int(age)\n",
    "    age_group = str(age)\n",
    "    if age <= 20:\n",
    "        age_group = age_group.replace(age_group, \"17-20\")\n",
    "    elif age > 20 and age <= 30:\n",
    "        age_group = age_group.replace(age_group, \"21-30\")\n",
    "    elif age > 30 and age <= 40:\n",
    "        age_group = age_group.replace(age_group, \"31-40\")\n",
    "    elif age > 40 and age <= 50:\n",
    "        age_group = age_group.replace(age_group, \"41-50\")\n",
    "    elif age > 50 and age <= 60:\n",
    "        age_group = age_group.replace(age_group, \"51-60\")\n",
    "    elif age > 60 and age <= 70:\n",
    "        age_group = age_group.replace(age_group, \"61-70\")\n",
    "    elif age > 70 and age <= 80:\n",
    "        age_group = age_group.replace(age_group, \"71-80\")\n",
    "    elif age > 80 and age <= 90:\n",
    "        age_group = age_group.replace(age_group, \"81-90\")\n",
    "    else:\n",
    "        age_group = age_group.replace(age_group, \"Above 91\")\n",
    "    return age_group"
   ]
  },
  {
   "cell_type": "code",
   "execution_count": 3,
   "id": "6ae2d4e7",
   "metadata": {},
   "outputs": [
    {
     "name": "stdout",
     "output_type": "stream",
     "text": [
      "Fase Concluída com Sucesso!\n"
     ]
    }
   ],
   "source": [
    "# Abre o arquivo CSV com os dados de adult\n",
    "with open('Dados/adult.csv', 'r') as file:\n",
    "    \n",
    "    # Cria um leitor de CSV para ler o arquivo\n",
    "    reader = csv.reader(file)\n",
    "\n",
    "    # Pula a primeira linha, que contém os cabeçalhos das colunas\n",
    "    next(reader)\n",
    "\n",
    "    # Conecta ao banco de dados\n",
    "    conn = sqlite3.connect('adults.db')\n",
    "\n",
    "    # Deleta a tabela existente, se houver\n",
    "    conn.execute('DROP TABLE IF EXISTS adults')\n",
    "  \n",
    "    # Cria uma nova tabela para armazenar os dados de adult\n",
    "    conn.execute('''CREATE TABLE adults (\n",
    "                age INTEGER,\n",
    "                workclass TEXT,\n",
    "                fnlwgt INTEGER,\n",
    "                education TEXT,\n",
    "                education_num INTEGER,\n",
    "                marital_status TEXT,\n",
    "                occupation TEXT,\n",
    "                relationship TEXT,\n",
    "                race TEXT,\n",
    "                sex TEXT,\n",
    "                capital_gain INTEGER,\n",
    "                capital_loss INTEGER,\n",
    "                hours_per_week TEXT,\n",
    "                native_country TEXT,\n",
    "                income TEXT,\n",
    "                age_group TEXT\n",
    "            )''')\n",
    "\n",
    "    # Insere cada linha do arquivo adult com quantidade maior que 0 e menor que 99999 na tabela do banco de dados\n",
    "    for row in reader:\n",
    "        if int(row[0]) > 0 and int(row[10]) < 99999:\n",
    "            \n",
    "            # Cria a coluna com as faixas etárias\n",
    "            age_group = faixa_etaria(row[0])\n",
    "            \n",
    "            # Aplica a função faixa_etaria aplicando engenharia de atributos\n",
    "            conn.execute('''INSERT INTO adults (\n",
    "                         age, \n",
    "                         workclass, \n",
    "                         fnlwgt, \n",
    "                         education, \n",
    "                         education_num, \n",
    "                         marital_status, \n",
    "                         occupation, \n",
    "                         relationship, \n",
    "                         race, \n",
    "                         sex, \n",
    "                         capital_gain, \n",
    "                         capital_loss, \n",
    "                         hours_per_week, \n",
    "                         native_country, \n",
    "                         income,\n",
    "                         age_group\n",
    "                         ) VALUES (?, ?, ?,   ?, ?, ?,   ?, ?, ?,   ?, ?, ?,   ?, ?, ?,  ?)''',\n",
    "                         ( row[0], row[1], row[2], row[3], row[4], row[5], row[6], row[7], row[8], row[9], row[10], row[11], row[12], row[13], row[14], age_group))\n",
    "\n",
    "    conn.commit()\n",
    "    conn.close()\n",
    "\n",
    "print(\"Fase Concluída com Sucesso!\")\n"
   ]
  },
  {
   "cell_type": "code",
   "execution_count": null,
   "id": "80d19d09",
   "metadata": {},
   "outputs": [],
   "source": []
  }
 ],
 "metadata": {
  "kernelspec": {
   "display_name": "Python 3 (ipykernel)",
   "language": "python",
   "name": "python3"
  },
  "language_info": {
   "codemirror_mode": {
    "name": "ipython",
    "version": 3
   },
   "file_extension": ".py",
   "mimetype": "text/x-python",
   "name": "python",
   "nbconvert_exporter": "python",
   "pygments_lexer": "ipython3",
   "version": "3.9.13"
  }
 },
 "nbformat": 4,
 "nbformat_minor": 5
}
