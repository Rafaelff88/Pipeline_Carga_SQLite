{
 "cells": [
  {
   "cell_type": "code",
   "execution_count": 1,
   "id": "07dc8972",
   "metadata": {},
   "outputs": [],
   "source": [
    "# Fase2\n",
    "# Criação de Pipeline de Extração, Limpeza, Transformação e Enriquecimento de Dados\n",
    "# Versão 2\n",
    "# Regra de negócio: Carregar somente registros com capital_gain > 0 e capital_gain < 99999.\n"
   ]
  },
  {
   "cell_type": "code",
   "execution_count": 18,
   "id": "e89066b4",
   "metadata": {},
   "outputs": [],
   "source": [
    "# Imports\n",
    "import csv\n",
    "import sqlite3"
   ]
  },
  {
   "cell_type": "code",
   "execution_count": 19,
   "id": "f40d8f08",
   "metadata": {},
   "outputs": [
    {
     "name": "stdout",
     "output_type": "stream",
     "text": [
      "Fase Concluída com Sucesso!\n"
     ]
    }
   ],
   "source": [
    "# Abre o arquivo CSV com os dados de adult\n",
    "with open('Dados/adult.csv', 'r') as file:\n",
    "    \n",
    "    # Cria um leitor de CSV para ler o arquivo\n",
    "    reader = csv.reader(file)\n",
    "\n",
    "    # Pula a primeira linha, que contém os cabeçalhos das colunas\n",
    "    next(reader)\n",
    "\n",
    "    # Conecta ao banco de dados\n",
    "    conn = sqlite3.connect('adults.db')\n",
    "\n",
    "    # Deleta a tabela existente, se houver\n",
    "    conn.execute('DROP TABLE IF EXISTS adults')\n",
    "  \n",
    "    # Cria uma nova tabela para armazenar os dados de produção de adult\n",
    "    conn.execute('''CREATE TABLE adults (\n",
    "                age INTEGER,\n",
    "                workclass TEXT,\n",
    "                fnlwgt INTEGER,\n",
    "                education TEXT,\n",
    "                education_num INTEGER,\n",
    "                marital_status TEXT,\n",
    "                occupation TEXT,\n",
    "                relationship TEXT,\n",
    "                race TEXT,\n",
    "                sex TEXT,\n",
    "                capital_gain INTEGER,\n",
    "                capital_loss INTEGER,\n",
    "                hours_per_week TEXT,\n",
    "                native_country TEXT,\n",
    "                income TEXT\n",
    "            )''')\n",
    "\n",
    "    # Insere cada linha do arquivo adult com quantidade maior que 0 e menor que 99999 na tabela do banco de dados\n",
    "    for row in reader:\n",
    "        if int(row[10]) > 0 and int(row[10]) < 99999:\n",
    "            conn.execute('''INSERT INTO adults (\n",
    "                         age, \n",
    "                         workclass, \n",
    "                         fnlwgt, \n",
    "                         education, \n",
    "                         education_num, \n",
    "                         marital_status, \n",
    "                         occupation, \n",
    "                         relationship, \n",
    "                         race, \n",
    "                         sex, \n",
    "                         capital_gain, \n",
    "                         capital_loss, \n",
    "                         hours_per_week, \n",
    "                         native_country, \n",
    "                         income\n",
    "                         ) VALUES (?, ?, ?, ?, ?, ?, ?, ?, ?, ?, ?, ?, ?, ?, ?)''', row)\n",
    "\n",
    "    conn.commit()\n",
    "    conn.close()\n",
    "\n",
    "print(\"Fase Concluída com Sucesso!\")"
   ]
  },
  {
   "cell_type": "code",
   "execution_count": null,
   "id": "7fd79e8d",
   "metadata": {},
   "outputs": [],
   "source": []
  }
 ],
 "metadata": {
  "kernelspec": {
   "display_name": "Python 3 (ipykernel)",
   "language": "python",
   "name": "python3"
  },
  "language_info": {
   "codemirror_mode": {
    "name": "ipython",
    "version": 3
   },
   "file_extension": ".py",
   "mimetype": "text/x-python",
   "name": "python",
   "nbconvert_exporter": "python",
   "pygments_lexer": "ipython3",
   "version": "3.9.13"
  }
 },
 "nbformat": 4,
 "nbformat_minor": 5
}
